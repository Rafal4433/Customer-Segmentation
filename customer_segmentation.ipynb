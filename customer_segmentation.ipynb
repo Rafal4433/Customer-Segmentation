{
 "cells": [
  {
   "cell_type": "markdown",
   "metadata": {},
   "source": [
    "# Customer Segmentation - Marketing Campaign Analysis\n",
    "\n",
    "## Author: Rafał Mazur\n",
    "## Date: 2024-03-28\n",
    "\n",
    "This notebook contains a comprehensive analysis of customer segmentation based on marketing campaign data. The project uses advanced machine learning techniques to identify and analyze different customer segments, enabling better understanding of purchasing behaviors and development of effective marketing strategies."
   ]
  },
  {
   "cell_type": "markdown",
   "metadata": {},
   "source": [
    "## 1. Import Libraries and Configuration"
   ]
  },
  {
   "cell_type": "code",
   "execution_count": 1,
   "metadata": {},
   "outputs": [],
   "source": [
    "# Import required libraries\n",
    "import pandas as pd\n",
    "import numpy as np\n",
    "import matplotlib.pyplot as plt\n",
    "import seaborn as sns\n",
    "from sklearn.preprocessing import StandardScaler\n",
    "from sklearn.cluster import KMeans\n",
    "from sklearn.decomposition import PCA\n",
    "import datetime as dt\n",
    "from scipy import stats\n",
    "import warnings\n",
    "warnings.filterwarnings('ignore')\n",
    "\n",
    "# Set style for plots\n",
    "plt.style.use('seaborn-v0_8-whitegrid')\n",
    "sns.set_palette('viridis')\n",
    "\n",
    "# Set plot size\n",
    "plt.rcParams['figure.figsize'] = [12, 8]"
   ]
  },
  {
   "cell_type": "markdown",
   "metadata": {},
   "source": [
    "## 2. Load and Prepare Data"
   ]
  },
  {
   "cell_type": "code",
   "execution_count": null,
   "metadata": {},
   "outputs": [],
   "source": [
    "# Load data\n",
    "df = pd.read_csv('marketing_campaign.csv',sep='\\t')\n",
    "\n",
    "print(f'Data loaded. Shape: {df.shape}')\n",
    "\n",
    "# Prepare data\n",
    "df_clean = df.copy()\n",
    "\n",
    "# Calculate customer age\n",
    "current_year = dt.datetime.now().year\n",
    "df_clean['Age'] = current_year - df_clean['Year_Birth']\n",
    "\n",
    "# Calculate total amount spent on products\n",
    "df_clean['TotalSpent'] = df_clean['MntWines'] + df_clean['MntFruits'] + \\\n",
    "                       df_clean['MntMeatProducts'] + df_clean['MntFishProducts'] + \\\n",
    "                       df_clean['MntSweetProducts'] + df_clean['MntGoldProds']\n",
    "\n",
    "# Calculate total number of purchases\n",
    "df_clean['TotalPurchases'] = df_clean['NumDealsPurchases'] + df_clean['NumWebPurchases'] + \\\n",
    "                           df_clean['NumCatalogPurchases'] + df_clean['NumStorePurchases']\n",
    "\n",
    "# Calculate number of children in household\n",
    "df_clean['Children'] = df_clean['Kidhome'] + df_clean['Teenhome']\n",
    "\n",
    "# Clean data - remove missing income values\n",
    "df_clean = df_clean.dropna(subset=['Income'])\n",
    "\n",
    "# Convert customer enrollment date\n",
    "df_clean['Dt_Customer'] = pd.to_datetime(df_clean['Dt_Customer'], format='%d-%m-%Y')\n",
    "\n",
    "# Calculate days since customer enrollment\n",
    "df_clean['CustomerDays'] = (pd.Timestamp.now() - df_clean['Dt_Customer']).dt.days\n",
    "\n",
    "# Calculate campaign acceptance rate\n",
    "df_clean['AcceptedCmpTotal'] = df_clean['AcceptedCmp1'] + df_clean['AcceptedCmp2'] + \\\n",
    "                             df_clean['AcceptedCmp3'] + df_clean['AcceptedCmp4'] + \\\n",
    "                             df_clean['AcceptedCmp5']\n",
    "\n",
    "# Remove outliers - age above 100\n",
    "df_clean = df_clean[df_clean['Age'] < 100]\n",
    "\n",
    "print('\\nPrepared data:')\n",
    "print(df_clean.head())"
   ]
  },
  {
   "cell_type": "markdown",
   "metadata": {},
   "source": [
    "## 3. Exploratory Data Analysis (EDA)"
   ]
  },
  {
   "cell_type": "code",
   "execution_count": null,
   "metadata": {},
   "outputs": [],
   "source": [
    "# Basic information about data\n",
    "print(\"Data Information:\")\n",
    "print(df_clean.info())\n",
    "\n",
    "print(\"\\nDescriptive Statistics:\")\n",
    "print(df_clean.describe())\n",
    "\n",
    "print(\"\\nChecking for Missing Values:\")\n",
    "print(df_clean.isnull().sum())"
   ]
  },
  {
   "cell_type": "code",
   "execution_count": null,
   "metadata": {},
   "outputs": [],
   "source": [
    "# Histograms for numerical variables\n",
    "plt.figure(figsize=(15, 10))\n",
    "for i, col in enumerate(['Income', 'Age', 'TotalSpent', 'Recency', 'Children', 'TotalPurchases']):\n",
    "    plt.subplot(2, 3, i+1)\n",
    "    sns.histplot(df_clean[col], kde=True)\n",
    "    plt.title(f'Distribution: {col}')\n",
    "plt.tight_layout()\n",
    "plt.show()"
   ]
  },
  {
   "cell_type": "code",
   "execution_count": null,
   "metadata": {},
   "outputs": [],
   "source": [
    "# Distribution of spending on product categories\n",
    "product_categories = ['MntWines', 'MntFruits', 'MntMeatProducts', 'MntFishProducts', 'MntSweetProducts', 'MntGoldProds']\n",
    "plt.figure(figsize=(15, 6))\n",
    "df_clean[product_categories].mean().sort_values(ascending=False).plot(kind='bar', color='skyblue')\n",
    "plt.title('Average Spending on Product Categories')\n",
    "plt.ylabel('Average Amount ($)')\n",
    "plt.grid(axis='y')\n",
    "plt.show()"
   ]
  },
  {
   "cell_type": "code",
   "execution_count": null,
   "metadata": {},
   "outputs": [],
   "source": [
    "# Correlation plot\n",
    "plt.figure(figsize=(12, 10))\n",
    "numeric_cols = ['Income', 'Age', 'TotalSpent', 'Recency', 'Children', 'TotalPurchases', \n",
    "                'NumWebVisitsMonth'] + product_categories\n",
    "correlation_matrix = df_clean[numeric_cols].corr()\n",
    "sns.heatmap(correlation_matrix, annot=True, cmap='coolwarm', fmt='.2f')\n",
    "plt.title('Correlation Matrix of Variables')\n",
    "plt.tight_layout()\n",
    "plt.show()"
   ]
  },
  {
   "cell_type": "code",
   "execution_count": null,
   "metadata": {},
   "outputs": [],
   "source": [
    "# Spending by education and marital status\n",
    "fig, (ax1, ax2) = plt.subplots(1, 2, figsize=(20, 6))\n",
    "\n",
    "sns.boxplot(x='Education', y='TotalSpent', data=df_clean, ax=ax1)\n",
    "ax1.set_title('Spending by Education Level')\n",
    "ax1.grid(axis='y')\n",
    "ax1.tick_params(axis='x', rotation=45)\n",
    "\n",
    "sns.boxplot(x='Marital_Status', y='TotalSpent', data=df_clean, ax=ax2)\n",
    "ax2.set_title('Spending by Marital Status')\n",
    "ax2.grid(axis='y')\n",
    "ax2.tick_params(axis='x', rotation=45)\n",
    "\n",
    "plt.tight_layout()\n",
    "plt.show()"
   ]
  },
  {
   "cell_type": "markdown",
   "metadata": {},
   "source": [
    "## 4. Prepare Data for Segmentation"
   ]
  },
  {
   "cell_type": "code",
   "execution_count": null,
   "metadata": {},
   "outputs": [],
   "source": [
    "# Select columns for clustering\n",
    "cluster_cols = ['Income', 'Age', 'TotalSpent', 'Recency', 'TotalPurchases', 'NumWebVisitsMonth']\n",
    "\n",
    "# Standardize data\n",
    "scaler = StandardScaler()\n",
    "df_scaled = scaler.fit_transform(df_clean[cluster_cols])\n",
    "\n",
    "print('Shape of data after standardization:', df_scaled.shape)"
   ]
  },
  {
   "cell_type": "markdown",
   "metadata": {},
   "source": [
    "## 5. Determine Optimal Number of Clusters"
   ]
  },
  {
   "cell_type": "code",
   "execution_count": null,
   "metadata": {},
   "outputs": [],
   "source": [
    "# Elbow method\n",
    "inertia = []\n",
    "k_range = range(1, 11)\n",
    "\n",
    "for k in k_range:\n",
    "    kmeans = KMeans(n_clusters=k, random_state=42, n_init=10)\n",
    "    kmeans.fit(df_scaled)\n",
    "    inertia.append(kmeans.inertia_)\n",
    "\n",
    "# Elbow method plot\n",
    "plt.figure(figsize=(10, 6))\n",
    "plt.plot(k_range, inertia, 'o-')\n",
    "plt.xlabel('Number of Clusters (k)')\n",
    "plt.ylabel('Within-Cluster Sum of Squares (Inertia)')\n",
    "plt.title('Elbow Method for Optimal Number of Clusters')\n",
    "plt.grid(True)\n",
    "plt.show()\n",
    "\n",
    "# Select optimal number of clusters\n",
    "optimal_k = 4\n",
    "print(f\"\\nSelected number of clusters: {optimal_k}\")"
   ]
  },
  {
   "cell_type": "markdown",
   "metadata": {},
   "source": [
    "## 6. Customer Segmentation"
   ]
  },
  {
   "cell_type": "code",
   "execution_count": null,
   "metadata": {},
   "outputs": [],
   "source": [
    "# Apply K-means algorithm\n",
    "kmeans = KMeans(n_clusters=optimal_k, random_state=42, n_init=10)\n",
    "clusters = kmeans.fit_predict(df_scaled)\n",
    "\n",
    "# Add cluster information to original DataFrame\n",
    "df_clean['Cluster'] = clusters\n",
    "\n",
    "# Analyze cluster centroids\n",
    "centroids = pd.DataFrame(scaler.inverse_transform(kmeans.cluster_centers_), \n",
    "                        columns=cluster_cols)\n",
    "centroids.index.name = 'cluster'\n",
    "\n",
    "print(\"Cluster Centroids (mean values for each segment):\")\n",
    "print(centroids)\n",
    "\n",
    "print(\"\\nNumber of customers in each segment:\")\n",
    "print(df_clean['Cluster'].value_counts().sort_index())"
   ]
  },
  {
   "cell_type": "code",
   "execution_count": null,
   "metadata": {},
   "outputs": [],
   "source": [
    "# Visualize clusters using PCA\n",
    "pca = PCA(n_components=2)\n",
    "pca_result = pca.fit_transform(df_scaled)\n",
    "\n",
    "plt.figure(figsize=(10, 8))\n",
    "scatter = plt.scatter(pca_result[:, 0], pca_result[:, 1], c=clusters, cmap='viridis', alpha=0.6)\n",
    "plt.colorbar(scatter, label='Customer Segment')\n",
    "plt.title('Customer Segments Visualization (PCA)')\n",
    "plt.xlabel('First Principal Component')\n",
    "plt.ylabel('Second Principal Component')\n",
    "plt.show()"
   ]
  },
  {
   "cell_type": "code",
   "execution_count": null,
   "metadata": {},
   "outputs": [],
   "source": [
    "# Visualize features for each cluster\n",
    "plt.figure(figsize=(15, 10))\n",
    "for i, col in enumerate(cluster_cols):\n",
    "    plt.subplot(2, 3, i+1)\n",
    "    sns.boxplot(x='Cluster', y=col, data=df_clean)\n",
    "    plt.title(f'{col} by Segment')\n",
    "plt.tight_layout()\n",
    "plt.show()"
   ]
  },
  {
   "cell_type": "markdown",
   "metadata": {},
   "source": [
    "## 7. Analyze Product Category Spending by Segments"
   ]
  },
  {
   "cell_type": "code",
   "execution_count": null,
   "metadata": {},
   "outputs": [],
   "source": [
    "# Analyze spending on product categories by segments\n",
    "plt.figure(figsize=(15, 8))\n",
    "for i, category in enumerate(product_categories):\n",
    "    plt.subplot(2, 3, i+1)\n",
    "    sns.barplot(x='Cluster', y=category, data=df_clean, ci=None)\n",
    "    plt.title(f'Spending on {category} by Segment')\n",
    "plt.tight_layout()\n",
    "plt.show()"
   ]
  },
  {
   "cell_type": "markdown",
   "metadata": {},
   "source": [
    "## 8. Analyze Campaign Acceptance by Segments"
   ]
  },
  {
   "cell_type": "code",
   "execution_count": null,
   "metadata": {},
   "outputs": [],
   "source": [
    "# Analyze campaign acceptance frequency by segments\n",
    "campaign_cols = ['AcceptedCmp1', 'AcceptedCmp2', 'AcceptedCmp3', 'AcceptedCmp4', 'AcceptedCmp5', 'Response']\n",
    "campaign_acceptance = df_clean.groupby('Cluster')[campaign_cols].mean() * 100\n",
    "\n",
    "plt.figure(figsize=(12, 6))\n",
    "campaign_acceptance.plot(kind='bar')\n",
    "plt.title('Campaign Acceptance Rate by Segment (%)')\n",
    "plt.ylabel('Acceptance Rate (%)')\n",
    "plt.grid(axis='y')\n",
    "plt.show()"
   ]
  },
  {
   "cell_type": "markdown",
   "metadata": {},
   "source": [
    "## 9. Analyze and Interpret Segments"
   ]
  },
  {
   "cell_type": "code",
   "execution_count": null,
   "metadata": {},
   "outputs": [],
   "source": [
    "# Standardize centroids for relative value comparison\n",
    "centroids_std = centroids.copy()\n",
    "for col in cluster_cols:\n",
    "    centroids_std[col] = (centroids[col] - centroids[col].mean()) / centroids[col].std()\n",
    "\n",
    "# Visualize normalized centroids\n",
    "plt.figure(figsize=(12, 8))\n",
    "centroids_std.T.plot(kind='bar', figsize=(12, 8))\n",
    "plt.title('Comparison of Relative Feature Values for Each Segment')\n",
    "plt.ylabel('Standardized Value')\n",
    "plt.xlabel('Feature')\n",
    "plt.legend(title='Segment')\n",
    "plt.grid(axis='y')\n",
    "plt.tight_layout()\n",
    "plt.show()"
   ]
  },
  {
   "cell_type": "code",
   "execution_count": null,
   "metadata": {},
   "outputs": [],
   "source": [
    "# Analyze distribution of categories for each segment\n",
    "categorical_cols = ['Education', 'Marital_Status']\n",
    "\n",
    "for col in categorical_cols:\n",
    "    plt.figure(figsize=(15, 6))\n",
    "    for i in range(len(centroids)):\n",
    "        plt.subplot(1, len(centroids), i+1)\n",
    "        segment_data = df_clean[df_clean['Cluster'] == i]\n",
    "        segment_data[col].value_counts(normalize=True).plot(kind='pie', autopct='%1.1f%%')\n",
    "        plt.title(f'Segment {i}: {col}')\n",
    "    plt.tight_layout()\n",
    "    plt.show()"
   ]
  },
  {
   "cell_type": "markdown",
   "metadata": {},
   "source": [
    "## 10. Segment Interpretation and Business Recommendations"
   ]
  },
  {
   "cell_type": "markdown",
   "metadata": {},
   "source": [
    "### Segment Descriptions:\n",
    "\n",
    "1. **Segment 0**: Less affluent, older customers with low spending and long inactivity\n",
    "2. **Segment 1**: Affluent, older customers with high spending but inactive for a long time\n",
    "3. **Segment 2**: Less affluent, younger customers with low spending but recently active\n",
    "4. **Segment 3**: Affluent, active customers with high spending and recent purchases"
   ]
  },
  {
   "cell_type": "markdown",
   "metadata": {},
   "source": [
    "### Business Recommendations:\n",
    "\n",
    "#### Segment 0 (Inactive Low-Potential Customers):\n",
    "1. Reactivation program - special offers with large discounts\n",
    "2. Satisfaction survey - contact to identify issues\n",
    "3. Promote affordable products matching their historical purchases\n",
    "4. Promotions on wines, which constitute the largest part of their spending\n",
    "5. Educational campaigns about product value\n",
    "\n",
    "#### Segment 1 (Premium Inactive):\n",
    "1. VIP reactivation program with exclusive offers\n",
    "2. Promote new premium products in wine and meat categories\n",
    "3. Exclusive invitations to tastings and events\n",
    "4. Loyalty programs with rewards for returning to purchases\n",
    "5. Personalized recommendations based on previous purchases\n",
    "\n",
    "#### Segment 2 (Active Low-Budget Customers):\n",
    "1. Cart building program - incentives to increase purchase value\n",
    "2. Cross-promotions - complementary product suggestions\n",
    "3. Loyalty program with rewards for purchase regularity\n",
    "4. Special offers on premium products\n",
    "5. Educational campaigns about benefits of purchasing higher-end products\n",
    "\n",
    "#### Segment 3 (Premium Active - Most Valuable Customers):\n",
    "1. VIP program with dedicated service and special privileges\n",
    "2. Exclusive access to new products before official launch\n",
    "3. Personalized premium product recommendations\n",
    "4. Referral program - rewards for referring friends\n",
    "5. Retention strategy through regular contact and special events"
   ]
  }
 ],
 "metadata": {
  "kernelspec": {
   "display_name": "Python 3",
   "language": "python",
   "name": "python3"
  },
  "language_info": {
   "codemirror_mode": {
    "name": "ipython",
    "version": 3
   },
   "file_extension": ".py",
   "mimetype": "text/x-python",
   "name": "python",
   "nbconvert_exporter": "python",
   "pygments_lexer": "ipython3",
   "version": "3.9.6"
  }
 },
 "nbformat": 4,
 "nbformat_minor": 4
}
